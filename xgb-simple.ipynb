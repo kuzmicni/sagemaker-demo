{
 "cells": [
  {
   "cell_type": "markdown",
   "metadata": {},
   "source": [
    "### XGBoost Model - Predict best puppy based on house area\n",
    "#### Note: Run this code in SageMaker Notebook, not locally"
   ]
  },
  {
   "cell_type": "code",
   "execution_count": null,
   "metadata": {},
   "outputs": [],
   "source": [
    "# Install Necessary Libraries inside the env\n",
    "import sys\n",
    "!{sys.executable} -m pip install sagemaker pandas xgboost --upgrade"
   ]
  },
  {
   "cell_type": "markdown",
   "metadata": {},
   "source": [
    "#### How we would train the model locally to predict best puppy based on person's house area\n",
    "#### X = house area in ft2\n",
    "#### y = puppy type (0 = Beagle, 1 = German Shepherd)"
   ]
  },
  {
   "cell_type": "code",
   "execution_count": null,
   "metadata": {},
   "outputs": [],
   "source": [
    "import os\n",
    "import pandas as pd\n",
    "\n",
    "from xgboost import XGBClassifier\n",
    "\n",
    "df_train = pd.DataFrame({'X':[0,100,200,400,450,  550,600,800,1600],\n",
    "                         'y':[0,0,  0,  0,  0,    1,  1,  1,  1]})\n",
    "\n",
    "df_test = pd.DataFrame({'X':[10,90,240,459,120,  650,700,1800,1300],\n",
    "                        'y':[0,0,  0,  0,  0,    1,  1,  1,  1]})\n",
    "                    \n",
    "ml_model = XGBClassifier()\n",
    "ml_model.fit(df_train.X, df_train.y)"
   ]
  },
  {
   "cell_type": "code",
   "execution_count": null,
   "metadata": {},
   "outputs": [],
   "source": [
    "#Let's see what a person with 300ft2 and 600ft2 will get recommended\n",
    "\n",
    "print(ml_model.predict([[300]])[0], ml_model.predict([[600]])[0])"
   ]
  },
  {
   "cell_type": "markdown",
   "metadata": {},
   "source": [
    "### XGBoost training in SageMaker"
   ]
  },
  {
   "cell_type": "code",
   "execution_count": null,
   "metadata": {},
   "outputs": [],
   "source": [
    "import sagemaker, boto3\n",
    "from sagemaker import get_execution_role\n",
    "\n",
    "from sagemaker.inputs import TrainingInput\n",
    "from sagemaker.serializers import CSVSerializer\n",
    "\n",
    "\n",
    "sm_sess = sagemaker.Session()\n",
    "bucket = sm_sess.default_bucket()\n",
    "file_path = \"puppy_match\"\n",
    "\n",
    "#Need this role to perform stuff\n",
    "role = get_execution_role()"
   ]
  },
  {
   "cell_type": "markdown",
   "metadata": {},
   "source": [
    "### Store Datasets\n",
    "\n",
    "#### SageMaker Expectations for training & validation datasets\n",
    "#### 1. Target variable (y) to be i the first column\n",
    "#### 2. Remove column names (i.e. headers)\n",
    "#### 3. Remove index\n",
    "#### 4. Stored in an S3 bucket"
   ]
  },
  {
   "cell_type": "code",
   "execution_count": null,
   "metadata": {},
   "outputs": [],
   "source": [
    "df_train[['y','X']].to_csv('train.csv', header=False, index=False)\n",
    "df_val[['y','X']].to_csv('val.csv', header=False, index=False)"
   ]
  },
  {
   "cell_type": "code",
   "execution_count": null,
   "metadata": {},
   "outputs": [],
   "source": [
    "boto3.Session().resource(\"s3\").Bucket(bucket).Object(\n",
    "    os.path.join(file_path, \"train.csv\")\n",
    ").upload_file(\"train.csv\")\n",
    "\n",
    "boto3.Session().resource(\"s3\").Bucket(bucket).Object(\n",
    "    os.path.join(file_path, \"val.csv\")\n",
    ").upload_file(\"val.csv\")\n",
    "\n",
    "container = sagemaker.image_uris.retrieve(\"xgboost\", sm_sess.boto_region_name, \"latest\")\n",
    "\n",
    "\n",
    "s3_input_train = TrainingInput(\n",
    "    s3_data=\"s3://{}/{}/train\".format(bucket, file_path), content_type=\"csv\"\n",
    ")\n",
    "\n",
    "s3_input_validation = TrainingInput(\n",
    "    s3_data=\"s3://{}/{}/val\".format(bucket, file_path), content_type=\"csv\"\n",
    ")"
   ]
  },
  {
   "cell_type": "markdown",
   "metadata": {},
   "source": [
    "### Training"
   ]
  },
  {
   "cell_type": "code",
   "execution_count": null,
   "metadata": {},
   "outputs": [],
   "source": [
    "xgb = sagemaker.estimator.Estimator(\n",
    "    container,\n",
    "    role,\n",
    "    instance_count=1,\n",
    "    instance_type=\"ml.m4.xlarge\",\n",
    "    output_path=\"s3://{}/{}/output\".format(bucket, file_path),\n",
    "    sagemaker_session=sm_sess,\n",
    ")\n",
    "xgb.set_hyperparameters(\n",
    "    objective=\"multi:softmax\", #NOTE: \"binary:logistic\" only predicts probabilities!  \n",
    "    num_class=2, \n",
    "    num_round=100,\n",
    ")\n",
    "\n",
    "xgb.fit({\"train\": s3_input_train, \"validation\": s3_input_validation})"
   ]
  },
  {
   "cell_type": "markdown",
   "metadata": {},
   "source": [
    "### Deployment"
   ]
  },
  {
   "cell_type": "code",
   "execution_count": null,
   "metadata": {},
   "outputs": [],
   "source": [
    "xgb_predictor = xgb.deploy(\n",
    "    initial_instance_count=1, instance_type=\"ml.m4.xlarge\", serializer=CSVSerializer()\n",
    ")"
   ]
  },
  {
   "cell_type": "markdown",
   "metadata": {},
   "source": [
    "### Prediction"
   ]
  },
  {
   "cell_type": "code",
   "execution_count": null,
   "metadata": {},
   "outputs": [],
   "source": [
    "xgb_predictor.predict([750])"
   ]
  },
  {
   "cell_type": "markdown",
   "metadata": {},
   "source": [
    "### Cleanup to stop incurring Costs!\n",
    "\n",
    "#### 1. Delete the deployed endpoint by running\n",
    "xgb_predictor.delete_endpoint()\n",
    "\n",
    "#### 2. Stop the SageMaker Notebook"
   ]
  }
 ],
 "metadata": {
  "language_info": {
   "name": "python"
  },
  "orig_nbformat": 4
 },
 "nbformat": 4,
 "nbformat_minor": 2
}
